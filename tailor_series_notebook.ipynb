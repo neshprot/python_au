{
 "cells": [
  {
   "cell_type": "code",
   "execution_count": null,
   "metadata": {},
   "outputs": [],
   "source": [
    "import math\n",
    "import cmath\n",
    "import numpy as np\n",
    "import matplotlib.pyplot as plt\n",
    "\n",
    "ITERATIONS = 20\n",
    "\n",
    "\n",
    "def my_ln(x):\n",
    "    x_pow = x - 1\n",
    "    multiplier = 1\n",
    "    partial_sum = x - 1\n",
    "    for n in range(1, ITERATIONS):\n",
    "        x_pow *= x - 1\n",
    "        multiplier *= -1\n",
    "        partial_sum += multiplier * x_pow / (n + 1)\n",
    "    return partial_sum\n",
    "\n",
    "\n",
    "print('Библиотечный натуральный логарифм', help(math.log), math.log(1.4))\n",
    "print('Наш натуральный логарифм', (help(my_ln), my_ln(1.4)))\n",
    "\n",
    "complex_ln = cmath.exp(0.8)\n",
    "print(complex_ln)\n",
    "print(\"Достигает ли 0.8 наш натуральный логарифм?\", my_ln(complex_ln))\n",
    "print(\"А библиотечный?\", cmath.log(complex_ln))\n",
    "\n",
    "vs = np.vectorize(my_ln)\n",
    "print(my_ln, vs)\n",
    "arguments = np.r_[1:2:0.01]\n",
    "plt.plot(arguments, np.log(arguments))\n",
    "plt.plot(arguments, vs(arguments))\n",
    "plt.show()"
   ]
  }
 ],
 "metadata": {
  "kernelspec": {
   "display_name": "Python 3",
   "language": "python",
   "name": "python3"
  },
  "language_info": {
   "codemirror_mode": {
    "name": "ipython",
    "version": 3
   },
   "file_extension": ".py",
   "mimetype": "text/x-python",
   "name": "python",
   "nbconvert_exporter": "python",
   "pygments_lexer": "ipython3",
   "version": "3.8.5"
  }
 },
 "nbformat": 4,
 "nbformat_minor": 4
}
